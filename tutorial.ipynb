{
 "cells": [
  {
   "cell_type": "markdown",
   "metadata": {},
   "source": [
    "# Unsupervised Machine Learning Techniques for Linguistic Research\n",
    "\n",
    "First, overview of machine learning and supervised vs unsupervised techniques.\n",
    "\n",
    "This tutorial will focus on each the following unsupervised machine learning techniques:\n",
    "\n",
    "1. K-means Clustering - vowel categories (Sandoval et al., 2013), language profiles (Rysiewicz, 2008)\n",
    "2. Principal Component Analysis (PCA, Dimensionality Reduction) - matched guise (Newman et al., 2008)"
   ]
  },
  {
   "cell_type": "markdown",
   "metadata": {},
   "source": [
    "Two extremely useful Python packages that will be used in this tutorial are `scipy` and `scikit-learn`. These packages are often used in machine learning techniques."
   ]
  },
  {
   "cell_type": "markdown",
   "metadata": {},
   "source": [
    "Import the following libraries:"
   ]
  },
  {
   "cell_type": "code",
   "execution_count": 1,
   "metadata": {},
   "outputs": [],
   "source": [
    "import pandas as pd # allows you to open .csv files into Python\n",
    "\n",
    "# libraries for plotting\n",
    "import matplotlib.pyplot as plt # allows you to plot in Python\n",
    "# allows for plotting inline\n",
    "%matplotlib inline\n",
    "\n",
    "# k-means clustering\n",
    "from sklearn.cluster import KMeans # KMeans algorith\n",
    "\n",
    "# pca\n",
    "from sklearn.decomposition import PCA # PCA algorithm"
   ]
  },
  {
   "cell_type": "markdown",
   "metadata": {},
   "source": [
    "### 1. K-means Clustering\n",
    "\n",
    "K-means clustering is a simple method for sorting unlabeled data. The technique works with k number of centroids and assigns every data point in the data set to the nearest centroid. The centroids then shift to take the place of the new centroid of the generated cluster, then every data point is once again assigned to the cluster of the nearest centroid. The process is iterative and repeats until the sum of squared distances within clusters is minimized. \n",
    "\n",
    "![k-means animation](https://media.giphy.com/media/12vVAGkaqHUqCQ/giphy.gif)\n",
    "\n",
    "(Source: https://dashee87.github.io/data%20science/general/Clustering-with-Scikit-with-GIFs/)"
   ]
  },
  {
   "cell_type": "markdown",
   "metadata": {},
   "source": [
    "#### Parameters of the k-means algorithm\n",
    "\n",
    "Common parameters for the algorithm include:\n",
    "\n",
    "- `init`; determines how the initial cluster centroids are chosen, `\"k-means++\"` is the default and chooses the centroids 'smartly', speeding up the process\n",
    "- `n_clusters`; the number of cluster centroids, can be selected based on domain knowledge, or by best-fit methods (described below)\n",
    "- `n_init`; the number of iterations to run through with different centroid starting points, default is 10\n",
    "\n",
    "See (https://scikit-learn.org/stable/modules/generated/sklearn.cluster.KMeans.html) for more details."
   ]
  },
  {
   "cell_type": "markdown",
   "metadata": {},
   "source": [
    "#### Determining the number of clusters\n",
    "\n",
    "The number of clusters can either by determined by the researcher, based on domain knowledge, or can be decided via a variety of methods. Here, the \"elbow method\" will be shown, but another value of k can also be used to fit the model.\n",
    "\n",
    "For this tutorial, the dataset `blp_scores.csv` can be used for practice. The data set contains raw responses to the Bilingual Language Profile (BLP) survey (Gertken et al., 2014), with information from two separate languages about the following four categories:\n",
    "\n",
    "- Attitudes towards the language\n",
    "- History with the language\n",
    "- Proficiency in the language\n",
    "- Use of the language\n",
    "\n",
    "We can use k-means clustering to group participants according to their similarity of responses. \n",
    "\n",
    "Import the dataset and then run the following code chunk to calculate the sum of squared distances produced by a range of k-values, 0-10:"
   ]
  },
  {
   "cell_type": "code",
   "execution_count": 3,
   "metadata": {},
   "outputs": [
    {
     "data": {
      "text/html": [
       "<div>\n",
       "<style scoped>\n",
       "    .dataframe tbody tr th:only-of-type {\n",
       "        vertical-align: middle;\n",
       "    }\n",
       "\n",
       "    .dataframe tbody tr th {\n",
       "        vertical-align: top;\n",
       "    }\n",
       "\n",
       "    .dataframe thead th {\n",
       "        text-align: right;\n",
       "    }\n",
       "</style>\n",
       "<table border=\"1\" class=\"dataframe\">\n",
       "  <thead>\n",
       "    <tr style=\"text-align: right;\">\n",
       "      <th></th>\n",
       "      <th>Participant</th>\n",
       "      <th>Attitude_Spanish</th>\n",
       "      <th>Attitude_Catalan</th>\n",
       "      <th>History_Spanish</th>\n",
       "      <th>History_Catalan</th>\n",
       "      <th>Proficiency_Spanish</th>\n",
       "      <th>Proficiency_Catalan</th>\n",
       "      <th>Use_Spanish</th>\n",
       "      <th>Use_Catalan</th>\n",
       "    </tr>\n",
       "  </thead>\n",
       "  <tbody>\n",
       "    <tr>\n",
       "      <th>0</th>\n",
       "      <td>p1</td>\n",
       "      <td>20</td>\n",
       "      <td>24</td>\n",
       "      <td>86</td>\n",
       "      <td>96</td>\n",
       "      <td>23</td>\n",
       "      <td>23</td>\n",
       "      <td>14</td>\n",
       "      <td>35</td>\n",
       "    </tr>\n",
       "    <tr>\n",
       "      <th>1</th>\n",
       "      <td>p2</td>\n",
       "      <td>20</td>\n",
       "      <td>24</td>\n",
       "      <td>87</td>\n",
       "      <td>97</td>\n",
       "      <td>18</td>\n",
       "      <td>24</td>\n",
       "      <td>1</td>\n",
       "      <td>44</td>\n",
       "    </tr>\n",
       "    <tr>\n",
       "      <th>2</th>\n",
       "      <td>p3</td>\n",
       "      <td>20</td>\n",
       "      <td>24</td>\n",
       "      <td>96</td>\n",
       "      <td>115</td>\n",
       "      <td>19</td>\n",
       "      <td>24</td>\n",
       "      <td>10</td>\n",
       "      <td>36</td>\n",
       "    </tr>\n",
       "    <tr>\n",
       "      <th>3</th>\n",
       "      <td>p4</td>\n",
       "      <td>12</td>\n",
       "      <td>12</td>\n",
       "      <td>81</td>\n",
       "      <td>120</td>\n",
       "      <td>19</td>\n",
       "      <td>24</td>\n",
       "      <td>17</td>\n",
       "      <td>33</td>\n",
       "    </tr>\n",
       "    <tr>\n",
       "      <th>4</th>\n",
       "      <td>p5</td>\n",
       "      <td>22</td>\n",
       "      <td>23</td>\n",
       "      <td>104</td>\n",
       "      <td>84</td>\n",
       "      <td>19</td>\n",
       "      <td>24</td>\n",
       "      <td>32</td>\n",
       "      <td>18</td>\n",
       "    </tr>\n",
       "  </tbody>\n",
       "</table>\n",
       "</div>"
      ],
      "text/plain": [
       "  Participant  Attitude_Spanish  Attitude_Catalan  History_Spanish  \\\n",
       "0          p1                20                24               86   \n",
       "1          p2                20                24               87   \n",
       "2          p3                20                24               96   \n",
       "3          p4                12                12               81   \n",
       "4          p5                22                23              104   \n",
       "\n",
       "   History_Catalan  Proficiency_Spanish  Proficiency_Catalan  Use_Spanish  \\\n",
       "0               96                   23                   23           14   \n",
       "1               97                   18                   24            1   \n",
       "2              115                   19                   24           10   \n",
       "3              120                   19                   24           17   \n",
       "4               84                   19                   24           32   \n",
       "\n",
       "   Use_Catalan  \n",
       "0           35  \n",
       "1           44  \n",
       "2           36  \n",
       "3           33  \n",
       "4           18  "
      ]
     },
     "execution_count": 3,
     "metadata": {},
     "output_type": "execute_result"
    }
   ],
   "source": [
    "# import .csv as dataframe\n",
    "blp = pd.read_csv(\"data/blp_scores.csv\")\n",
    "blp.head()"
   ]
  },
  {
   "cell_type": "markdown",
   "metadata": {},
   "source": [
    "Next, we can normalize the values by dividing each column by the total possible points.\n",
    "\n",
    "- Attitude - 24 points max\n",
    "- History - 180 points\n",
    "- Proficiency - 24 points max\n",
    "- Use - 50 points max"
   ]
  },
  {
   "cell_type": "code",
   "execution_count": 5,
   "metadata": {},
   "outputs": [
    {
     "data": {
      "text/html": [
       "<div>\n",
       "<style scoped>\n",
       "    .dataframe tbody tr th:only-of-type {\n",
       "        vertical-align: middle;\n",
       "    }\n",
       "\n",
       "    .dataframe tbody tr th {\n",
       "        vertical-align: top;\n",
       "    }\n",
       "\n",
       "    .dataframe thead th {\n",
       "        text-align: right;\n",
       "    }\n",
       "</style>\n",
       "<table border=\"1\" class=\"dataframe\">\n",
       "  <thead>\n",
       "    <tr style=\"text-align: right;\">\n",
       "      <th></th>\n",
       "      <th>Participant</th>\n",
       "      <th>Attitude_Spanish</th>\n",
       "      <th>Attitude_Catalan</th>\n",
       "      <th>History_Spanish</th>\n",
       "      <th>History_Catalan</th>\n",
       "      <th>Proficiency_Spanish</th>\n",
       "      <th>Proficiency_Catalan</th>\n",
       "      <th>Use_Spanish</th>\n",
       "      <th>Use_Catalan</th>\n",
       "    </tr>\n",
       "  </thead>\n",
       "  <tbody>\n",
       "    <tr>\n",
       "      <th>0</th>\n",
       "      <td>p1</td>\n",
       "      <td>0.833333</td>\n",
       "      <td>1.000000</td>\n",
       "      <td>0.477778</td>\n",
       "      <td>0.533333</td>\n",
       "      <td>0.958333</td>\n",
       "      <td>0.958333</td>\n",
       "      <td>0.28</td>\n",
       "      <td>0.70</td>\n",
       "    </tr>\n",
       "    <tr>\n",
       "      <th>1</th>\n",
       "      <td>p2</td>\n",
       "      <td>0.833333</td>\n",
       "      <td>1.000000</td>\n",
       "      <td>0.483333</td>\n",
       "      <td>0.538889</td>\n",
       "      <td>0.750000</td>\n",
       "      <td>1.000000</td>\n",
       "      <td>0.02</td>\n",
       "      <td>0.88</td>\n",
       "    </tr>\n",
       "    <tr>\n",
       "      <th>2</th>\n",
       "      <td>p3</td>\n",
       "      <td>0.833333</td>\n",
       "      <td>1.000000</td>\n",
       "      <td>0.533333</td>\n",
       "      <td>0.638889</td>\n",
       "      <td>0.791667</td>\n",
       "      <td>1.000000</td>\n",
       "      <td>0.20</td>\n",
       "      <td>0.72</td>\n",
       "    </tr>\n",
       "    <tr>\n",
       "      <th>3</th>\n",
       "      <td>p4</td>\n",
       "      <td>0.500000</td>\n",
       "      <td>0.500000</td>\n",
       "      <td>0.450000</td>\n",
       "      <td>0.666667</td>\n",
       "      <td>0.791667</td>\n",
       "      <td>1.000000</td>\n",
       "      <td>0.34</td>\n",
       "      <td>0.66</td>\n",
       "    </tr>\n",
       "    <tr>\n",
       "      <th>4</th>\n",
       "      <td>p5</td>\n",
       "      <td>0.916667</td>\n",
       "      <td>0.958333</td>\n",
       "      <td>0.577778</td>\n",
       "      <td>0.466667</td>\n",
       "      <td>0.791667</td>\n",
       "      <td>1.000000</td>\n",
       "      <td>0.64</td>\n",
       "      <td>0.36</td>\n",
       "    </tr>\n",
       "  </tbody>\n",
       "</table>\n",
       "</div>"
      ],
      "text/plain": [
       "  Participant  Attitude_Spanish  Attitude_Catalan  History_Spanish  \\\n",
       "0          p1          0.833333          1.000000         0.477778   \n",
       "1          p2          0.833333          1.000000         0.483333   \n",
       "2          p3          0.833333          1.000000         0.533333   \n",
       "3          p4          0.500000          0.500000         0.450000   \n",
       "4          p5          0.916667          0.958333         0.577778   \n",
       "\n",
       "   History_Catalan  Proficiency_Spanish  Proficiency_Catalan  Use_Spanish  \\\n",
       "0         0.533333             0.958333             0.958333         0.28   \n",
       "1         0.538889             0.750000             1.000000         0.02   \n",
       "2         0.638889             0.791667             1.000000         0.20   \n",
       "3         0.666667             0.791667             1.000000         0.34   \n",
       "4         0.466667             0.791667             1.000000         0.64   \n",
       "\n",
       "   Use_Catalan  \n",
       "0         0.70  \n",
       "1         0.88  \n",
       "2         0.72  \n",
       "3         0.66  \n",
       "4         0.36  "
      ]
     },
     "execution_count": 5,
     "metadata": {},
     "output_type": "execute_result"
    }
   ],
   "source": [
    "blp['Attitude_Spanish'] = blp['Attitude_Spanish']/24\n",
    "blp['Attitude_Catalan'] = blp['Attitude_Catalan']/24\n",
    "blp['History_Spanish'] = blp['History_Spanish']/180\n",
    "blp['History_Catalan'] = blp['History_Catalan']/180\n",
    "blp['Proficiency_Spanish'] = blp['Proficiency_Spanish']/24\n",
    "blp['Proficiency_Catalan'] = blp['Proficiency_Catalan']/24\n",
    "blp['Use_Spanish'] = blp['Use_Spanish']/50\n",
    "blp['Use_Catalan'] = blp['Use_Catalan']/50\n",
    "blp.head()"
   ]
  },
  {
   "cell_type": "markdown",
   "metadata": {},
   "source": [
    "Before the best value of k can be determined with the elbow method, the 'Participant' column needs to be dropped, since k-means clustering only works with numeric data."
   ]
  },
  {
   "cell_type": "code",
   "execution_count": 7,
   "metadata": {},
   "outputs": [],
   "source": [
    "# drop the participant column from data set\n",
    "participant_clustering = blp.drop('Participant', 1)\n",
    "\n",
    "# calculate sum of squared distances over range of k-values\n",
    "Sum_of_squared_distances = []\n",
    "K = range(1,10)\n",
    "for k in K:\n",
    "    km = KMeans(n_clusters=k)\n",
    "    km = km.fit(participant_clustering) \n",
    "    Sum_of_squared_distances.append(km.inertia_)"
   ]
  },
  {
   "cell_type": "markdown",
   "metadata": {},
   "source": [
    "Next, plot the relationship between the k-value and its associated sum of squared distances. Because the sum of squared distance will be at the lowest when the k-value is equal to the number of points in the data set, you can't select the k-value that minimizes the sum of squared distance. However, the k-value on the graph below at the \"elbow\" of the curve is the value that will minimize the sum of squared distance while still producing a meaningful clustering."
   ]
  },
  {
   "cell_type": "code",
   "execution_count": 8,
   "metadata": {},
   "outputs": [
    {
     "data": {
      "image/png": "[encoded data removed]",
      "text/plain": [
       "<Figure size 432x288 with 1 Axes>"
      ]
     },
     "metadata": {
      "needs_background": "light"
     },
     "output_type": "display_data"
    }
   ],
   "source": [
    "plt.plot(K, Sum_of_squared_distances, 'bx-')\n",
    "plt.xlabel('k')\n",
    "plt.ylabel('Sum_of_squared_distances')\n",
    "plt.title('Elbow Method For Optimal k')\n",
    "plt.show()"
   ]
  },
  {
   "cell_type": "markdown",
   "metadata": {},
   "source": [
    "From the plot above, the best value of k for this data set is 2. Now, this value can be plugged into the algorithm and the data can be clustered."
   ]
  },
  {
   "cell_type": "code",
   "execution_count": 9,
   "metadata": {},
   "outputs": [
    {
     "data": {
      "text/plain": [
       "array([1, 1, 1, 1, 0, 1, 1, 1, 1, 1, 0, 1, 1, 1, 1, 0, 0])"
      ]
     },
     "execution_count": 9,
     "metadata": {},
     "output_type": "execute_result"
    }
   ],
   "source": [
    "# set the parameters for the k-means algorithm\n",
    "k_means = KMeans(init = \"k-means++\", n_clusters = 2, n_init = 12)\n",
    "\n",
    "# fit the algorithm to the dataframe\n",
    "k_means.fit(participant_clustering)\n",
    "\n",
    "# create an array called `k_means_labels` which contains the cluster label for each row in the dataframe\n",
    "k_means_labels = k_means.labels_\n",
    "k_means_labels"
   ]
  },
  {
   "cell_type": "code",
   "execution_count": 10,
   "metadata": {},
   "outputs": [
    {
     "data": {
      "text/plain": [
       "array([[0.90625   , 0.875     , 0.55555556, 0.42222222, 0.875     ,\n",
       "        0.92708333, 0.61      , 0.225     ],\n",
       "       [0.66987179, 0.95833333, 0.40982906, 0.57136752, 0.84935897,\n",
       "        0.96474359, 0.14153846, 0.83076923]])"
      ]
     },
     "execution_count": 10,
     "metadata": {},
     "output_type": "execute_result"
    }
   ],
   "source": [
    "# create an array called `k_means_cluster_centers` which contains the centroid of each cluster\n",
    "k_means_cluster_centers = k_means.cluster_centers_\n",
    "k_means_cluster_centers"
   ]
  },
  {
   "cell_type": "markdown",
   "metadata": {},
   "source": [
    "Now, the array of cluster labels can be attached to the original dataframe for future reference."
   ]
  },
  {
   "cell_type": "code",
   "execution_count": 11,
   "metadata": {},
   "outputs": [
    {
     "data": {
      "text/html": [
       "<div>\n",
       "<style scoped>\n",
       "    .dataframe tbody tr th:only-of-type {\n",
       "        vertical-align: middle;\n",
       "    }\n",
       "\n",
       "    .dataframe tbody tr th {\n",
       "        vertical-align: top;\n",
       "    }\n",
       "\n",
       "    .dataframe thead th {\n",
       "        text-align: right;\n",
       "    }\n",
       "</style>\n",
       "<table border=\"1\" class=\"dataframe\">\n",
       "  <thead>\n",
       "    <tr style=\"text-align: right;\">\n",
       "      <th></th>\n",
       "      <th>Participant</th>\n",
       "      <th>Cluster Labels</th>\n",
       "      <th>Attitude_Spanish</th>\n",
       "      <th>Attitude_Catalan</th>\n",
       "      <th>History_Spanish</th>\n",
       "      <th>History_Catalan</th>\n",
       "      <th>Proficiency_Spanish</th>\n",
       "      <th>Proficiency_Catalan</th>\n",
       "      <th>Use_Spanish</th>\n",
       "      <th>Use_Catalan</th>\n",
       "    </tr>\n",
       "  </thead>\n",
       "  <tbody>\n",
       "    <tr>\n",
       "      <th>0</th>\n",
       "      <td>p1</td>\n",
       "      <td>1</td>\n",
       "      <td>0.833333</td>\n",
       "      <td>1.000000</td>\n",
       "      <td>0.477778</td>\n",
       "      <td>0.533333</td>\n",
       "      <td>0.958333</td>\n",
       "      <td>0.958333</td>\n",
       "      <td>0.28</td>\n",
       "      <td>0.70</td>\n",
       "    </tr>\n",
       "    <tr>\n",
       "      <th>1</th>\n",
       "      <td>p2</td>\n",
       "      <td>1</td>\n",
       "      <td>0.833333</td>\n",
       "      <td>1.000000</td>\n",
       "      <td>0.483333</td>\n",
       "      <td>0.538889</td>\n",
       "      <td>0.750000</td>\n",
       "      <td>1.000000</td>\n",
       "      <td>0.02</td>\n",
       "      <td>0.88</td>\n",
       "    </tr>\n",
       "    <tr>\n",
       "      <th>2</th>\n",
       "      <td>p3</td>\n",
       "      <td>1</td>\n",
       "      <td>0.833333</td>\n",
       "      <td>1.000000</td>\n",
       "      <td>0.533333</td>\n",
       "      <td>0.638889</td>\n",
       "      <td>0.791667</td>\n",
       "      <td>1.000000</td>\n",
       "      <td>0.20</td>\n",
       "      <td>0.72</td>\n",
       "    </tr>\n",
       "    <tr>\n",
       "      <th>3</th>\n",
       "      <td>p4</td>\n",
       "      <td>1</td>\n",
       "      <td>0.500000</td>\n",
       "      <td>0.500000</td>\n",
       "      <td>0.450000</td>\n",
       "      <td>0.666667</td>\n",
       "      <td>0.791667</td>\n",
       "      <td>1.000000</td>\n",
       "      <td>0.34</td>\n",
       "      <td>0.66</td>\n",
       "    </tr>\n",
       "    <tr>\n",
       "      <th>4</th>\n",
       "      <td>p5</td>\n",
       "      <td>0</td>\n",
       "      <td>0.916667</td>\n",
       "      <td>0.958333</td>\n",
       "      <td>0.577778</td>\n",
       "      <td>0.466667</td>\n",
       "      <td>0.791667</td>\n",
       "      <td>1.000000</td>\n",
       "      <td>0.64</td>\n",
       "      <td>0.36</td>\n",
       "    </tr>\n",
       "  </tbody>\n",
       "</table>\n",
       "</div>"
      ],
      "text/plain": [
       "  Participant  Cluster Labels  Attitude_Spanish  Attitude_Catalan  \\\n",
       "0          p1               1          0.833333          1.000000   \n",
       "1          p2               1          0.833333          1.000000   \n",
       "2          p3               1          0.833333          1.000000   \n",
       "3          p4               1          0.500000          0.500000   \n",
       "4          p5               0          0.916667          0.958333   \n",
       "\n",
       "   History_Spanish  History_Catalan  Proficiency_Spanish  Proficiency_Catalan  \\\n",
       "0         0.477778         0.533333             0.958333             0.958333   \n",
       "1         0.483333         0.538889             0.750000             1.000000   \n",
       "2         0.533333         0.638889             0.791667             1.000000   \n",
       "3         0.450000         0.666667             0.791667             1.000000   \n",
       "4         0.577778         0.466667             0.791667             1.000000   \n",
       "\n",
       "   Use_Spanish  Use_Catalan  \n",
       "0         0.28         0.70  \n",
       "1         0.02         0.88  \n",
       "2         0.20         0.72  \n",
       "3         0.34         0.66  \n",
       "4         0.64         0.36  "
      ]
     },
     "execution_count": 11,
     "metadata": {},
     "output_type": "execute_result"
    }
   ],
   "source": [
    "blp.insert(1, 'Cluster Labels', k_means_labels)\n",
    "blp.head()"
   ]
  },
  {
   "cell_type": "markdown",
   "metadata": {},
   "source": [
    "Lastly, take the mean of each feature group for each cluster. This data, along with domain knowledge, will help to classify the clusters according to their distinguishing differences."
   ]
  },
  {
   "cell_type": "code",
   "execution_count": 12,
   "metadata": {},
   "outputs": [
    {
     "data": {
      "text/html": [
       "<div>\n",
       "<style scoped>\n",
       "    .dataframe tbody tr th:only-of-type {\n",
       "        vertical-align: middle;\n",
       "    }\n",
       "\n",
       "    .dataframe tbody tr th {\n",
       "        vertical-align: top;\n",
       "    }\n",
       "\n",
       "    .dataframe thead th {\n",
       "        text-align: right;\n",
       "    }\n",
       "</style>\n",
       "<table border=\"1\" class=\"dataframe\">\n",
       "  <thead>\n",
       "    <tr style=\"text-align: right;\">\n",
       "      <th></th>\n",
       "      <th>Attitude_Spanish</th>\n",
       "      <th>Attitude_Catalan</th>\n",
       "      <th>History_Spanish</th>\n",
       "      <th>History_Catalan</th>\n",
       "      <th>Proficiency_Spanish</th>\n",
       "      <th>Proficiency_Catalan</th>\n",
       "      <th>Use_Spanish</th>\n",
       "      <th>Use_Catalan</th>\n",
       "    </tr>\n",
       "    <tr>\n",
       "      <th>Cluster Labels</th>\n",
       "      <th></th>\n",
       "      <th></th>\n",
       "      <th></th>\n",
       "      <th></th>\n",
       "      <th></th>\n",
       "      <th></th>\n",
       "      <th></th>\n",
       "      <th></th>\n",
       "    </tr>\n",
       "  </thead>\n",
       "  <tbody>\n",
       "    <tr>\n",
       "      <th>0</th>\n",
       "      <td>0.906250</td>\n",
       "      <td>0.875000</td>\n",
       "      <td>0.555556</td>\n",
       "      <td>0.422222</td>\n",
       "      <td>0.875000</td>\n",
       "      <td>0.927083</td>\n",
       "      <td>0.610000</td>\n",
       "      <td>0.225000</td>\n",
       "    </tr>\n",
       "    <tr>\n",
       "      <th>1</th>\n",
       "      <td>0.669872</td>\n",
       "      <td>0.958333</td>\n",
       "      <td>0.409829</td>\n",
       "      <td>0.571368</td>\n",
       "      <td>0.849359</td>\n",
       "      <td>0.964744</td>\n",
       "      <td>0.141538</td>\n",
       "      <td>0.830769</td>\n",
       "    </tr>\n",
       "  </tbody>\n",
       "</table>\n",
       "</div>"
      ],
      "text/plain": [
       "                Attitude_Spanish  Attitude_Catalan  History_Spanish  \\\n",
       "Cluster Labels                                                        \n",
       "0                       0.906250          0.875000         0.555556   \n",
       "1                       0.669872          0.958333         0.409829   \n",
       "\n",
       "                History_Catalan  Proficiency_Spanish  Proficiency_Catalan  \\\n",
       "Cluster Labels                                                              \n",
       "0                      0.422222             0.875000             0.927083   \n",
       "1                      0.571368             0.849359             0.964744   \n",
       "\n",
       "                Use_Spanish  Use_Catalan  \n",
       "Cluster Labels                            \n",
       "0                  0.610000     0.225000  \n",
       "1                  0.141538     0.830769  "
      ]
     },
     "execution_count": 12,
     "metadata": {},
     "output_type": "execute_result"
    }
   ],
   "source": [
    "blp.groupby('Cluster Labels').mean()"
   ]
  },
  {
   "cell_type": "markdown",
   "metadata": {},
   "source": [
    "Based on the above results of clustering, we could distinguish between participants according to their use of Spanish vs. Catalan, as this is the greatest difference between the clusters. "
   ]
  },
  {
   "cell_type": "markdown",
   "metadata": {},
   "source": [
    "For more examples of linguistic applications of k-means clustering, see Rysiewicz (2008) and Sandoval et al. (2013)."
   ]
  },
  {
   "cell_type": "markdown",
   "metadata": {},
   "source": [
    "### 2. Principal Component Analysis (PCA)"
   ]
  },
  {
   "cell_type": "markdown",
   "metadata": {},
   "source": [
    "varimax rotation?"
   ]
  },
  {
   "cell_type": "markdown",
   "metadata": {},
   "source": [
    "---\n",
    "### References\n",
    "Gertken, L. M., Amengual, M., & Birdsong, D. (2014). Assessing language dominance with the bilingual language profile. Measuring L2 proficiency: Perspectives from SLA, 208-225.\n",
    "\n",
    "Newman, M., Trenchs‐Parera, M., & Ng, S. (2008). Normalizing bilingualism: The effects of the Catalonian linguistic normalization policy one generation after 1. Journal of Sociolinguistics, 12(3), 306-333.\n",
    "\n",
    "Rysiewicz, J. (2008). Cognitive profiles of (un) successful FL learners: A cluster analytical study. The Modern Language Journal, 92(1), 87-99.\n",
    "\n",
    "Sandoval, S., Berisha, V., Utianski, R. L., Liss, J. M., & Spanias, A. (2013). Automatic assessment of vowel space area. The Journal of the Acoustical Society of America, 134(5), EL477-EL483."
   ]
  }
 ],
 "metadata": {
  "kernelspec": {
   "display_name": "Python 3",
   "language": "python",
   "name": "python3"
  },
  "language_info": {
   "codemirror_mode": {
    "name": "ipython",
    "version": 3
   },
   "file_extension": ".py",
   "mimetype": "text/x-python",
   "name": "python",
   "nbconvert_exporter": "python",
   "pygments_lexer": "ipython3",
   "version": "3.7.6"
  }
 },
 "nbformat": 4,
 "nbformat_minor": 4
}
